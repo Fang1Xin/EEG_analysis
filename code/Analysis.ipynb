{
 "cells": [
  {
   "cell_type": "code",
   "execution_count": 3,
   "id": "initial_id",
   "metadata": {
    "collapsed": true,
    "ExecuteTime": {
     "end_time": "2025-04-18T12:58:45.371095600Z",
     "start_time": "2025-04-18T12:58:44.240257100Z"
    }
   },
   "outputs": [],
   "source": [
    "import mne\n",
    "import numpy as np\n",
    "import math\n",
    "import matplotlib.pyplot as plt\n",
    "import pandas as pd\n",
    "import os\n",
    "from mne.time_frequency import tfr_morlet\n",
    "%matplotlib qt "
   ]
  },
  {
   "cell_type": "code",
   "execution_count": 4,
   "outputs": [
    {
     "name": "stdout",
     "output_type": "stream",
     "text": [
      "Reading D:\\Documents\\EEG\\EEG-analysis\\data\\preocessed_epo.fif ...\n",
      "    Found the data of interest:\n",
      "        t =    -500.00 ...    2000.00 ms\n",
      "        0 CTF compensation matrices available\n",
      "Not setting metadata\n",
      "1394 matching events found\n",
      "No baseline correction applied\n",
      "0 projection items activated\n"
     ]
    }
   ],
   "source": [
    "# 导入预处理后的epochs数据\n",
    "input_data_path = r\"D:\\Documents\\EEG\\EEG-analysis\\data\\preocessed_epo.fif\"\n",
    "epochs = mne.read_epochs(input_data_path, preload=True)\n",
    "# epochs.plot(show=True)  # 查看脑电数据（可注释）"
   ],
   "metadata": {
    "collapsed": false,
    "ExecuteTime": {
     "end_time": "2025-04-18T12:58:46.903003100Z",
     "start_time": "2025-04-18T12:58:46.257554200Z"
    }
   },
   "id": "e975e12be777e037"
  },
  {
   "cell_type": "code",
   "execution_count": 5,
   "outputs": [
    {
     "name": "stdout",
     "output_type": "stream",
     "text": [
      "{'T100': 1, 'T101': 2, 'T102': 3, 'T103': 4, 'T104': 5, 'T105': 6, 'T106': 7, 'T107': 8, 'T108': 9, 'T109': 10, 'T110': 11, 'T111': 12, 'T112': 13, 'T120': 14, 'T121': 15, 'T122': 16, 'T48': 17, 'T49': 18, 'T97': 19, 'T98': 20, 'T99': 21}\n"
     ]
    }
   ],
   "source": [
    "# 查看event的marker\n",
    "event_id = epochs.event_id\n",
    "print(event_id)"
   ],
   "metadata": {
    "collapsed": false,
    "ExecuteTime": {
     "end_time": "2025-04-18T11:19:08.852448700Z",
     "start_time": "2025-04-18T11:19:08.815941700Z"
    }
   },
   "id": "69b51bc6d3416827"
  },
  {
   "cell_type": "code",
   "execution_count": 20,
   "outputs": [
    {
     "name": "stdout",
     "output_type": "stream",
     "text": [
      "Need more than one channel to make topography for eeg. Disabling interactivity.\n",
      "Need more than one channel to make topography for eeg. Disabling interactivity.\n",
      "Need more than one channel to make topography for eeg. Disabling interactivity.\n",
      "Need more than one channel to make topography for eeg. Disabling interactivity.\n",
      "Need more than one channel to make topography for eeg. Disabling interactivity.\n",
      "Need more than one channel to make topography for eeg. Disabling interactivity.\n",
      "Need more than one channel to make topography for eeg. Disabling interactivity.\n",
      "Need more than one channel to make topography for eeg. Disabling interactivity.\n",
      "Need more than one channel to make topography for eeg. Disabling interactivity.\n",
      "Need more than one channel to make topography for eeg. Disabling interactivity.\n",
      "Need more than one channel to make topography for eeg. Disabling interactivity.\n",
      "Need more than one channel to make topography for eeg. Disabling interactivity.\n",
      "Need more than one channel to make topography for eeg. Disabling interactivity.\n",
      "Need more than one channel to make topography for eeg. Disabling interactivity.\n",
      "Need more than one channel to make topography for eeg. Disabling interactivity.\n",
      "Need more than one channel to make topography for eeg. Disabling interactivity.\n",
      "Need more than one channel to make topography for eeg. Disabling interactivity.\n",
      "Need more than one channel to make topography for eeg. Disabling interactivity.\n",
      "Need more than one channel to make topography for eeg. Disabling interactivity.\n",
      "Need more than one channel to make topography for eeg. Disabling interactivity.\n",
      "Need more than one channel to make topography for eeg. Disabling interactivity.\n",
      "Need more than one channel to make topography for eeg. Disabling interactivity.\n",
      "Need more than one channel to make topography for eeg. Disabling interactivity.\n",
      "Need more than one channel to make topography for eeg. Disabling interactivity.\n",
      "Need more than one channel to make topography for eeg. Disabling interactivity.\n",
      "Need more than one channel to make topography for eeg. Disabling interactivity.\n",
      "Need more than one channel to make topography for eeg. Disabling interactivity.\n",
      "Need more than one channel to make topography for eeg. Disabling interactivity.\n",
      "Need more than one channel to make topography for eeg. Disabling interactivity.\n",
      "Need more than one channel to make topography for eeg. Disabling interactivity.\n",
      "Need more than one channel to make topography for eeg. Disabling interactivity.\n",
      "Need more than one channel to make topography for eeg. Disabling interactivity.\n",
      "Need more than one channel to make topography for eeg. Disabling interactivity.\n",
      "Need more than one channel to make topography for eeg. Disabling interactivity.\n",
      "Need more than one channel to make topography for eeg. Disabling interactivity.\n",
      "Need more than one channel to make topography for eeg. Disabling interactivity.\n",
      "Need more than one channel to make topography for eeg. Disabling interactivity.\n",
      "Need more than one channel to make topography for eeg. Disabling interactivity.\n",
      "Need more than one channel to make topography for eeg. Disabling interactivity.\n",
      "Need more than one channel to make topography for eeg. Disabling interactivity.\n",
      "Need more than one channel to make topography for eeg. Disabling interactivity.\n",
      "Need more than one channel to make topography for eeg. Disabling interactivity.\n",
      "Need more than one channel to make topography for eeg. Disabling interactivity.\n",
      "Need more than one channel to make topography for eeg. Disabling interactivity.\n",
      "Need more than one channel to make topography for eeg. Disabling interactivity.\n",
      "Need more than one channel to make topography for eeg. Disabling interactivity.\n",
      "Need more than one channel to make topography for eeg. Disabling interactivity.\n",
      "Need more than one channel to make topography for eeg. Disabling interactivity.\n",
      "Need more than one channel to make topography for eeg. Disabling interactivity.\n",
      "Need more than one channel to make topography for eeg. Disabling interactivity.\n",
      "Need more than one channel to make topography for eeg. Disabling interactivity.\n",
      "Need more than one channel to make topography for eeg. Disabling interactivity.\n",
      "Need more than one channel to make topography for eeg. Disabling interactivity.\n",
      "Need more than one channel to make topography for eeg. Disabling interactivity.\n",
      "Need more than one channel to make topography for eeg. Disabling interactivity.\n",
      "Need more than one channel to make topography for eeg. Disabling interactivity.\n",
      "Need more than one channel to make topography for eeg. Disabling interactivity.\n",
      "Need more than one channel to make topography for eeg. Disabling interactivity.\n",
      "Need more than one channel to make topography for eeg. Disabling interactivity.\n",
      "Need more than one channel to make topography for eeg. Disabling interactivity.\n",
      "Need more than one channel to make topography for eeg. Disabling interactivity.\n",
      "Need more than one channel to make topography for eeg. Disabling interactivity.\n",
      "Need more than one channel to make topography for eeg. Disabling interactivity.\n"
     ]
    }
   ],
   "source": [
    "# ERP \n",
    "# 选择要进行分析的事件\n",
    "# 如果为单个事件分析\n",
    "T106 = epochs['T106'].average()  # 计算得到T101分段的均值\n",
    "# 如果需要合并多个事件统一分析，首先需进行事件合并\n",
    "epochs = mne.epochs.combine_event_ids(epochs, ['T100', 'T101', 'T102'], {'M': 31})  #合并'T100', 'T101', 'T102'，并将这三个事件合并后的事件命名为M，编号为31（注意，这里的编号不要跟上面输出的事件编号重叠，因此尽可能往大写）\n",
    "M = epochs['M'].average()\n",
    "# 绘制ERP图（全通道）\n",
    "fig = T106.plot(show=False)   # 63通道的erp放在一张图里，show=False则不会有弹窗弹出erp图\n",
    "fig.savefig(r\"D:\\Documents\\EEG\\EEG-analysis\\output\\erp.png\")  # 保存fig图，按需修改路径\n",
    "# 绘制ERP图（单个通道）\n",
    "plt.ioff()  # 关闭交互模式\n",
    "channel = epochs.info['ch_names']\n",
    "for i in range(len(channel)):\n",
    "    fig_channel = M.plot(picks=channel[i], show=False)\n",
    "    plt.title('ERP_%s'% channel[i])\n",
    "    fig_channel.savefig(r\"D:\\Documents\\EEG\\EEG-analysis\\output\\erp_%s.png\" % channel[i])\n",
    "    "
   ],
   "metadata": {
    "collapsed": false,
    "ExecuteTime": {
     "end_time": "2025-04-18T13:22:05.101902300Z",
     "start_time": "2025-04-18T13:21:59.063077400Z"
    }
   },
   "id": "c8b32ffe8250abc0"
  },
  {
   "cell_type": "code",
   "execution_count": 7,
   "outputs": [],
   "source": [
    "# ERP数据输出\n",
    "df = M.to_data_frame(time_format='ms')  # 输出数据时间以ms形式（可修改，time_format=None则以s形式）\n",
    "df.to_excel(r\"D:\\Documents\\EEG\\EEG-analysis\\output\\erp.xlsx\", index=False)"
   ],
   "metadata": {
    "collapsed": false,
    "ExecuteTime": {
     "end_time": "2025-04-18T11:19:39.092156600Z",
     "start_time": "2025-04-18T11:19:38.049553700Z"
    }
   },
   "id": "4207c66d571cf826"
  },
  {
   "cell_type": "code",
   "execution_count": 25,
   "outputs": [
    {
     "name": "stdout",
     "output_type": "stream",
     "text": [
      "    Using multitaper spectrum estimation with 7 DPSS windows\n",
      "Plotting power spectral density (dB=False).\n"
     ]
    }
   ],
   "source": [
    "# 频谱分析\n",
    "# 对于epochs数据，计算频谱（如果不对数据进行分段，分析的是静息态的整段数据也可使用，读入整段数据后，使用.compute_psd()）\n",
    "evk_spectrum = M.compute_psd(method=\"multitaper\", fmin=0, fmax=45)  # 可选welch和multitaper，tmin=10, tmax=20, fmin=5, fmax=30 时间和频率范围均可设置\n",
    "fig = evk_spectrum.plot(show=False, dB=False)    # 输出频谱图\n",
    "fig.savefig(r\"D:\\Documents\\EEG\\EEG-analysis\\output\\evk_spectrum.png\")  #保存频谱图\n",
    "fig2 = evk_spectrum.plot_topomap(show=False, dB=True)  # 输出频谱地形图  # dB=True 以dB的形式呈现\n",
    "fig2.savefig(r\"D:\\Documents\\EEG\\EEG-analysis\\output\\evk_spectrum_topo.png\")  #保存频谱地形图"
   ],
   "metadata": {
    "collapsed": false,
    "ExecuteTime": {
     "end_time": "2025-04-18T13:31:16.762139400Z",
     "start_time": "2025-04-18T13:31:16.276495400Z"
    }
   },
   "id": "c8c7226dddc71a58"
  },
  {
   "cell_type": "code",
   "execution_count": 31,
   "outputs": [],
   "source": [
    "# 频谱 频段数据提取\n",
    "psd_data = evk_spectrum.get_data()\n",
    "freqs = evk_spectrum.freqs\n",
    "channel = evk_spectrum.ch_names\n",
    "bands = {'Delta (0-4 Hz)': (0, 4), 'Theta (4-8 Hz)': (4, 8),\n",
    "         'Alpha (8-12 Hz)': (8, 12), 'Beta (12-30 Hz)': (12, 30),\n",
    "         'Gamma (30-45 Hz)': (30, 45)}\n",
    "psd = {}\n",
    "for band_name, (fmin, fmax) in bands.items():\n",
    "    freq_mask = (freqs >= fmin) & (freqs <= fmax)\n",
    "    band_data = psd_data[:, freq_mask]\n",
    "    band_power = band_data.mean(axis=1)\n",
    "    psd[band_name] = band_power\n",
    "\n",
    "df = pd.DataFrame(\n",
    "    data=psd,          # 字典的键作为列名，值作为列数据\n",
    "    index=channel      # 通道名称作为行索引\n",
    ")\n",
    "\n",
    "df = df.reset_index().rename(columns={'index': 'Channel'})\n",
    "df.to_excel(r\"D:\\Documents\\EEG\\EEG-analysis\\output\\band_power_values.xlsx\", index=False)"
   ],
   "metadata": {
    "collapsed": false,
    "ExecuteTime": {
     "end_time": "2025-04-18T13:38:13.036332800Z",
     "start_time": "2025-04-18T13:38:13.008557300Z"
    }
   },
   "id": "d4519ba8e01fdf3e"
  },
  {
   "cell_type": "code",
   "execution_count": 26,
   "outputs": [],
   "source": [
    "# 频谱数据输出\n",
    "df = evk_spectrum.to_data_frame()\n",
    "df.to_excel(r\"D:\\Documents\\EEG\\EEG-analysis\\output\\evk_spectrum.xlsx\", index=False)  # 修改路径"
   ],
   "metadata": {
    "collapsed": false,
    "ExecuteTime": {
     "end_time": "2025-04-18T13:31:20.440393700Z",
     "start_time": "2025-04-18T13:31:20.355572300Z"
    }
   },
   "id": "1a641e1988001235"
  },
  {
   "cell_type": "code",
   "execution_count": 16,
   "outputs": [
    {
     "name": "stderr",
     "output_type": "stream",
     "text": [
      "[Parallel(n_jobs=1)]: Done  17 tasks      | elapsed:    1.1s\n"
     ]
    },
    {
     "name": "stdout",
     "output_type": "stream",
     "text": [
      "Applying baseline correction (mode: logratio)\n",
      "Applying baseline correction (mode: logratio)\n",
      "Applying baseline correction (mode: logratio)\n",
      "Applying baseline correction (mode: logratio)\n",
      "Applying baseline correction (mode: logratio)\n",
      "Applying baseline correction (mode: logratio)\n",
      "Applying baseline correction (mode: logratio)\n",
      "Applying baseline correction (mode: logratio)\n",
      "Applying baseline correction (mode: logratio)\n",
      "Applying baseline correction (mode: logratio)\n",
      "Applying baseline correction (mode: logratio)\n",
      "Applying baseline correction (mode: logratio)\n",
      "Applying baseline correction (mode: logratio)\n",
      "Applying baseline correction (mode: logratio)\n",
      "Applying baseline correction (mode: logratio)\n",
      "Applying baseline correction (mode: logratio)\n",
      "Applying baseline correction (mode: logratio)\n",
      "Applying baseline correction (mode: logratio)\n",
      "Applying baseline correction (mode: logratio)\n",
      "Applying baseline correction (mode: logratio)\n",
      "Applying baseline correction (mode: logratio)\n",
      "Applying baseline correction (mode: logratio)\n",
      "Applying baseline correction (mode: logratio)\n",
      "Applying baseline correction (mode: logratio)\n",
      "Applying baseline correction (mode: logratio)\n",
      "Applying baseline correction (mode: logratio)\n",
      "Applying baseline correction (mode: logratio)\n",
      "Applying baseline correction (mode: logratio)\n",
      "Applying baseline correction (mode: logratio)\n",
      "Applying baseline correction (mode: logratio)\n",
      "Applying baseline correction (mode: logratio)\n",
      "Applying baseline correction (mode: logratio)\n",
      "Applying baseline correction (mode: logratio)\n",
      "Applying baseline correction (mode: logratio)\n",
      "Applying baseline correction (mode: logratio)\n",
      "Applying baseline correction (mode: logratio)\n",
      "Applying baseline correction (mode: logratio)\n",
      "Applying baseline correction (mode: logratio)\n",
      "Applying baseline correction (mode: logratio)\n",
      "Applying baseline correction (mode: logratio)\n",
      "Applying baseline correction (mode: logratio)\n",
      "Applying baseline correction (mode: logratio)\n",
      "Applying baseline correction (mode: logratio)\n",
      "Applying baseline correction (mode: logratio)\n",
      "Applying baseline correction (mode: logratio)\n",
      "Applying baseline correction (mode: logratio)\n",
      "Applying baseline correction (mode: logratio)\n",
      "Applying baseline correction (mode: logratio)\n",
      "Applying baseline correction (mode: logratio)\n",
      "Applying baseline correction (mode: logratio)\n",
      "Applying baseline correction (mode: logratio)\n",
      "Applying baseline correction (mode: logratio)\n",
      "Applying baseline correction (mode: logratio)\n",
      "Applying baseline correction (mode: logratio)\n",
      "Applying baseline correction (mode: logratio)\n",
      "Applying baseline correction (mode: logratio)\n",
      "Applying baseline correction (mode: logratio)\n",
      "Applying baseline correction (mode: logratio)\n",
      "Applying baseline correction (mode: logratio)\n",
      "Applying baseline correction (mode: logratio)\n",
      "Applying baseline correction (mode: logratio)\n",
      "Applying baseline correction (mode: logratio)\n",
      "Applying baseline correction (mode: logratio)\n"
     ]
    }
   ],
   "source": [
    "# 时频分析（morlet小波变换）\n",
    "freqs = np.arange(4, 91, 1)  # 时频分析的频率范围设置：4-91Hz(不包含91)，以1Hz为步长\n",
    "n_cycles = freqs / 2.0  # different number of cycle per frequency\n",
    "power = epochs['T108'].compute_tfr(\n",
    "    method=\"morlet\",\n",
    "    freqs=freqs,\n",
    "    n_cycles=n_cycles,\n",
    "    average=True,\n",
    "    decim=3,\n",
    ")\n",
    "# average=True 即先时频之后进行平均，如果改为False则输出每一个分段的时频结果\n",
    "# 输出时频图以单个通道形式输出\n",
    "plt.ioff()  # 关闭交互模式\n",
    "for i in range(len(power.ch_names)):\n",
    "    fig_power = power.copy().plot(picks=[i], baseline=(-0.5, 0), tmin=-0.5, tmax=1, fmin=10, fmax=50, mode=\"logratio\", title=power.ch_names[i], show=False)  # 输出时频图，以单个通道为一张图输出, 可以设置tmin=None, tmax=None, fmin=0.0, fmax=inf，设置基线，与基线的计算模式为‘mean’ | ‘ratio’ | ‘logratio’ | ‘percent’ | ‘zscore’ | ‘zlogratio’\n",
    "    fig_power[0].savefig(r\"D:\\Documents\\EEG\\EEG-analysis\\output\\power_%s.png\" % power.ch_names[i])\n"
   ],
   "metadata": {
    "collapsed": false,
    "ExecuteTime": {
     "end_time": "2025-04-18T13:12:22.165291900Z",
     "start_time": "2025-04-18T13:12:07.668869900Z"
    }
   },
   "id": "60a8cca58298cd73"
  },
  {
   "cell_type": "code",
   "execution_count": 18,
   "outputs": [
    {
     "name": "stdout",
     "output_type": "stream",
     "text": [
      "Applying baseline correction (mode: mean)\n"
     ]
    }
   ],
   "source": [
    "# 输出power\n",
    "# 基线矫正 上一部分的基线矫正是在输出时频图的过程中进行的\n",
    "power_based = power.copy().apply_baseline((-0.5, 0), mode='mean')\n",
    "df = power_based.to_data_frame()\n",
    "df.to_excel(r\"D:\\Documents\\EEG\\EEG-analysis\\output\\power.xlsx\", index=False)"
   ],
   "metadata": {
    "collapsed": false,
    "ExecuteTime": {
     "end_time": "2025-04-18T13:20:32.901954600Z",
     "start_time": "2025-04-18T13:20:08.586132700Z"
    }
   },
   "id": "5eaf8a2c8d0430cb"
  }
 ],
 "metadata": {
  "kernelspec": {
   "display_name": "Python 3",
   "language": "python",
   "name": "python3"
  },
  "language_info": {
   "codemirror_mode": {
    "name": "ipython",
    "version": 2
   },
   "file_extension": ".py",
   "mimetype": "text/x-python",
   "name": "python",
   "nbconvert_exporter": "python",
   "pygments_lexer": "ipython2",
   "version": "2.7.6"
  }
 },
 "nbformat": 4,
 "nbformat_minor": 5
}
